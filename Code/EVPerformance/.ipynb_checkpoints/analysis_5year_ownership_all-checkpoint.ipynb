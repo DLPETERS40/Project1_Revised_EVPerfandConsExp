{
 "cells": [
  {
   "cell_type": "code",
   "execution_count": 1,
   "id": "8877ac94",
   "metadata": {},
   "outputs": [],
   "source": [
    "# importing Dependencies \n",
    "import time\n",
    "import os\n",
    "import pandas as pd\n",
    "import matplotlib.pyplot as plt\n",
    "import pandas as pd\n",
    "from functools import reduce\n",
    "from scipy.stats import linregress "
   ]
  },
  {
   "cell_type": "code",
   "execution_count": 2,
   "id": "f4a24edd",
   "metadata": {},
   "outputs": [
    {
     "ename": "FileNotFoundError",
     "evalue": "[Errno 2] No such file or directory: 'Resources/Edmunds.csv'",
     "output_type": "error",
     "traceback": [
      "\u001b[0;31m---------------------------------------------------------------------------\u001b[0m",
      "\u001b[0;31mFileNotFoundError\u001b[0m                         Traceback (most recent call last)",
      "Cell \u001b[0;32mIn[2], line 2\u001b[0m\n\u001b[1;32m      1\u001b[0m \u001b[38;5;66;03m# importing csv for internal combusion engine cars to create dataframe\u001b[39;00m\n\u001b[0;32m----> 2\u001b[0m ice_df\u001b[38;5;241m=\u001b[39m\u001b[43mpd\u001b[49m\u001b[38;5;241;43m.\u001b[39;49m\u001b[43mread_csv\u001b[49m\u001b[43m(\u001b[49m\u001b[38;5;124;43m\"\u001b[39;49m\u001b[38;5;124;43mResources/Edmunds.csv\u001b[39;49m\u001b[38;5;124;43m\"\u001b[39;49m\u001b[43m)\u001b[49m\n\u001b[1;32m      3\u001b[0m \u001b[38;5;66;03m#displaying 1st 5 rows of internal combusiton engine cars dataframe\u001b[39;00m\n\u001b[1;32m      4\u001b[0m display(ice_df\u001b[38;5;241m.\u001b[39mhead())\n",
      "File \u001b[0;32m~/Library/Python/3.8/lib/python/site-packages/pandas/io/parsers/readers.py:912\u001b[0m, in \u001b[0;36mread_csv\u001b[0;34m(filepath_or_buffer, sep, delimiter, header, names, index_col, usecols, dtype, engine, converters, true_values, false_values, skipinitialspace, skiprows, skipfooter, nrows, na_values, keep_default_na, na_filter, verbose, skip_blank_lines, parse_dates, infer_datetime_format, keep_date_col, date_parser, date_format, dayfirst, cache_dates, iterator, chunksize, compression, thousands, decimal, lineterminator, quotechar, quoting, doublequote, escapechar, comment, encoding, encoding_errors, dialect, on_bad_lines, delim_whitespace, low_memory, memory_map, float_precision, storage_options, dtype_backend)\u001b[0m\n\u001b[1;32m    899\u001b[0m kwds_defaults \u001b[38;5;241m=\u001b[39m _refine_defaults_read(\n\u001b[1;32m    900\u001b[0m     dialect,\n\u001b[1;32m    901\u001b[0m     delimiter,\n\u001b[0;32m   (...)\u001b[0m\n\u001b[1;32m    908\u001b[0m     dtype_backend\u001b[38;5;241m=\u001b[39mdtype_backend,\n\u001b[1;32m    909\u001b[0m )\n\u001b[1;32m    910\u001b[0m kwds\u001b[38;5;241m.\u001b[39mupdate(kwds_defaults)\n\u001b[0;32m--> 912\u001b[0m \u001b[38;5;28;01mreturn\u001b[39;00m \u001b[43m_read\u001b[49m\u001b[43m(\u001b[49m\u001b[43mfilepath_or_buffer\u001b[49m\u001b[43m,\u001b[49m\u001b[43m \u001b[49m\u001b[43mkwds\u001b[49m\u001b[43m)\u001b[49m\n",
      "File \u001b[0;32m~/Library/Python/3.8/lib/python/site-packages/pandas/io/parsers/readers.py:577\u001b[0m, in \u001b[0;36m_read\u001b[0;34m(filepath_or_buffer, kwds)\u001b[0m\n\u001b[1;32m    574\u001b[0m _validate_names(kwds\u001b[38;5;241m.\u001b[39mget(\u001b[38;5;124m\"\u001b[39m\u001b[38;5;124mnames\u001b[39m\u001b[38;5;124m\"\u001b[39m, \u001b[38;5;28;01mNone\u001b[39;00m))\n\u001b[1;32m    576\u001b[0m \u001b[38;5;66;03m# Create the parser.\u001b[39;00m\n\u001b[0;32m--> 577\u001b[0m parser \u001b[38;5;241m=\u001b[39m \u001b[43mTextFileReader\u001b[49m\u001b[43m(\u001b[49m\u001b[43mfilepath_or_buffer\u001b[49m\u001b[43m,\u001b[49m\u001b[43m \u001b[49m\u001b[38;5;241;43m*\u001b[39;49m\u001b[38;5;241;43m*\u001b[39;49m\u001b[43mkwds\u001b[49m\u001b[43m)\u001b[49m\n\u001b[1;32m    579\u001b[0m \u001b[38;5;28;01mif\u001b[39;00m chunksize \u001b[38;5;129;01mor\u001b[39;00m iterator:\n\u001b[1;32m    580\u001b[0m     \u001b[38;5;28;01mreturn\u001b[39;00m parser\n",
      "File \u001b[0;32m~/Library/Python/3.8/lib/python/site-packages/pandas/io/parsers/readers.py:1407\u001b[0m, in \u001b[0;36mTextFileReader.__init__\u001b[0;34m(self, f, engine, **kwds)\u001b[0m\n\u001b[1;32m   1404\u001b[0m     \u001b[38;5;28mself\u001b[39m\u001b[38;5;241m.\u001b[39moptions[\u001b[38;5;124m\"\u001b[39m\u001b[38;5;124mhas_index_names\u001b[39m\u001b[38;5;124m\"\u001b[39m] \u001b[38;5;241m=\u001b[39m kwds[\u001b[38;5;124m\"\u001b[39m\u001b[38;5;124mhas_index_names\u001b[39m\u001b[38;5;124m\"\u001b[39m]\n\u001b[1;32m   1406\u001b[0m \u001b[38;5;28mself\u001b[39m\u001b[38;5;241m.\u001b[39mhandles: IOHandles \u001b[38;5;241m|\u001b[39m \u001b[38;5;28;01mNone\u001b[39;00m \u001b[38;5;241m=\u001b[39m \u001b[38;5;28;01mNone\u001b[39;00m\n\u001b[0;32m-> 1407\u001b[0m \u001b[38;5;28mself\u001b[39m\u001b[38;5;241m.\u001b[39m_engine \u001b[38;5;241m=\u001b[39m \u001b[38;5;28;43mself\u001b[39;49m\u001b[38;5;241;43m.\u001b[39;49m\u001b[43m_make_engine\u001b[49m\u001b[43m(\u001b[49m\u001b[43mf\u001b[49m\u001b[43m,\u001b[49m\u001b[43m \u001b[49m\u001b[38;5;28;43mself\u001b[39;49m\u001b[38;5;241;43m.\u001b[39;49m\u001b[43mengine\u001b[49m\u001b[43m)\u001b[49m\n",
      "File \u001b[0;32m~/Library/Python/3.8/lib/python/site-packages/pandas/io/parsers/readers.py:1661\u001b[0m, in \u001b[0;36mTextFileReader._make_engine\u001b[0;34m(self, f, engine)\u001b[0m\n\u001b[1;32m   1659\u001b[0m     \u001b[38;5;28;01mif\u001b[39;00m \u001b[38;5;124m\"\u001b[39m\u001b[38;5;124mb\u001b[39m\u001b[38;5;124m\"\u001b[39m \u001b[38;5;129;01mnot\u001b[39;00m \u001b[38;5;129;01min\u001b[39;00m mode:\n\u001b[1;32m   1660\u001b[0m         mode \u001b[38;5;241m+\u001b[39m\u001b[38;5;241m=\u001b[39m \u001b[38;5;124m\"\u001b[39m\u001b[38;5;124mb\u001b[39m\u001b[38;5;124m\"\u001b[39m\n\u001b[0;32m-> 1661\u001b[0m \u001b[38;5;28mself\u001b[39m\u001b[38;5;241m.\u001b[39mhandles \u001b[38;5;241m=\u001b[39m \u001b[43mget_handle\u001b[49m\u001b[43m(\u001b[49m\n\u001b[1;32m   1662\u001b[0m \u001b[43m    \u001b[49m\u001b[43mf\u001b[49m\u001b[43m,\u001b[49m\n\u001b[1;32m   1663\u001b[0m \u001b[43m    \u001b[49m\u001b[43mmode\u001b[49m\u001b[43m,\u001b[49m\n\u001b[1;32m   1664\u001b[0m \u001b[43m    \u001b[49m\u001b[43mencoding\u001b[49m\u001b[38;5;241;43m=\u001b[39;49m\u001b[38;5;28;43mself\u001b[39;49m\u001b[38;5;241;43m.\u001b[39;49m\u001b[43moptions\u001b[49m\u001b[38;5;241;43m.\u001b[39;49m\u001b[43mget\u001b[49m\u001b[43m(\u001b[49m\u001b[38;5;124;43m\"\u001b[39;49m\u001b[38;5;124;43mencoding\u001b[39;49m\u001b[38;5;124;43m\"\u001b[39;49m\u001b[43m,\u001b[49m\u001b[43m \u001b[49m\u001b[38;5;28;43;01mNone\u001b[39;49;00m\u001b[43m)\u001b[49m\u001b[43m,\u001b[49m\n\u001b[1;32m   1665\u001b[0m \u001b[43m    \u001b[49m\u001b[43mcompression\u001b[49m\u001b[38;5;241;43m=\u001b[39;49m\u001b[38;5;28;43mself\u001b[39;49m\u001b[38;5;241;43m.\u001b[39;49m\u001b[43moptions\u001b[49m\u001b[38;5;241;43m.\u001b[39;49m\u001b[43mget\u001b[49m\u001b[43m(\u001b[49m\u001b[38;5;124;43m\"\u001b[39;49m\u001b[38;5;124;43mcompression\u001b[39;49m\u001b[38;5;124;43m\"\u001b[39;49m\u001b[43m,\u001b[49m\u001b[43m \u001b[49m\u001b[38;5;28;43;01mNone\u001b[39;49;00m\u001b[43m)\u001b[49m\u001b[43m,\u001b[49m\n\u001b[1;32m   1666\u001b[0m \u001b[43m    \u001b[49m\u001b[43mmemory_map\u001b[49m\u001b[38;5;241;43m=\u001b[39;49m\u001b[38;5;28;43mself\u001b[39;49m\u001b[38;5;241;43m.\u001b[39;49m\u001b[43moptions\u001b[49m\u001b[38;5;241;43m.\u001b[39;49m\u001b[43mget\u001b[49m\u001b[43m(\u001b[49m\u001b[38;5;124;43m\"\u001b[39;49m\u001b[38;5;124;43mmemory_map\u001b[39;49m\u001b[38;5;124;43m\"\u001b[39;49m\u001b[43m,\u001b[49m\u001b[43m \u001b[49m\u001b[38;5;28;43;01mFalse\u001b[39;49;00m\u001b[43m)\u001b[49m\u001b[43m,\u001b[49m\n\u001b[1;32m   1667\u001b[0m \u001b[43m    \u001b[49m\u001b[43mis_text\u001b[49m\u001b[38;5;241;43m=\u001b[39;49m\u001b[43mis_text\u001b[49m\u001b[43m,\u001b[49m\n\u001b[1;32m   1668\u001b[0m \u001b[43m    \u001b[49m\u001b[43merrors\u001b[49m\u001b[38;5;241;43m=\u001b[39;49m\u001b[38;5;28;43mself\u001b[39;49m\u001b[38;5;241;43m.\u001b[39;49m\u001b[43moptions\u001b[49m\u001b[38;5;241;43m.\u001b[39;49m\u001b[43mget\u001b[49m\u001b[43m(\u001b[49m\u001b[38;5;124;43m\"\u001b[39;49m\u001b[38;5;124;43mencoding_errors\u001b[39;49m\u001b[38;5;124;43m\"\u001b[39;49m\u001b[43m,\u001b[49m\u001b[43m \u001b[49m\u001b[38;5;124;43m\"\u001b[39;49m\u001b[38;5;124;43mstrict\u001b[39;49m\u001b[38;5;124;43m\"\u001b[39;49m\u001b[43m)\u001b[49m\u001b[43m,\u001b[49m\n\u001b[1;32m   1669\u001b[0m \u001b[43m    \u001b[49m\u001b[43mstorage_options\u001b[49m\u001b[38;5;241;43m=\u001b[39;49m\u001b[38;5;28;43mself\u001b[39;49m\u001b[38;5;241;43m.\u001b[39;49m\u001b[43moptions\u001b[49m\u001b[38;5;241;43m.\u001b[39;49m\u001b[43mget\u001b[49m\u001b[43m(\u001b[49m\u001b[38;5;124;43m\"\u001b[39;49m\u001b[38;5;124;43mstorage_options\u001b[39;49m\u001b[38;5;124;43m\"\u001b[39;49m\u001b[43m,\u001b[49m\u001b[43m \u001b[49m\u001b[38;5;28;43;01mNone\u001b[39;49;00m\u001b[43m)\u001b[49m\u001b[43m,\u001b[49m\n\u001b[1;32m   1670\u001b[0m \u001b[43m\u001b[49m\u001b[43m)\u001b[49m\n\u001b[1;32m   1671\u001b[0m \u001b[38;5;28;01massert\u001b[39;00m \u001b[38;5;28mself\u001b[39m\u001b[38;5;241m.\u001b[39mhandles \u001b[38;5;129;01mis\u001b[39;00m \u001b[38;5;129;01mnot\u001b[39;00m \u001b[38;5;28;01mNone\u001b[39;00m\n\u001b[1;32m   1672\u001b[0m f \u001b[38;5;241m=\u001b[39m \u001b[38;5;28mself\u001b[39m\u001b[38;5;241m.\u001b[39mhandles\u001b[38;5;241m.\u001b[39mhandle\n",
      "File \u001b[0;32m~/Library/Python/3.8/lib/python/site-packages/pandas/io/common.py:859\u001b[0m, in \u001b[0;36mget_handle\u001b[0;34m(path_or_buf, mode, encoding, compression, memory_map, is_text, errors, storage_options)\u001b[0m\n\u001b[1;32m    854\u001b[0m \u001b[38;5;28;01melif\u001b[39;00m \u001b[38;5;28misinstance\u001b[39m(handle, \u001b[38;5;28mstr\u001b[39m):\n\u001b[1;32m    855\u001b[0m     \u001b[38;5;66;03m# Check whether the filename is to be opened in binary mode.\u001b[39;00m\n\u001b[1;32m    856\u001b[0m     \u001b[38;5;66;03m# Binary mode does not support 'encoding' and 'newline'.\u001b[39;00m\n\u001b[1;32m    857\u001b[0m     \u001b[38;5;28;01mif\u001b[39;00m ioargs\u001b[38;5;241m.\u001b[39mencoding \u001b[38;5;129;01mand\u001b[39;00m \u001b[38;5;124m\"\u001b[39m\u001b[38;5;124mb\u001b[39m\u001b[38;5;124m\"\u001b[39m \u001b[38;5;129;01mnot\u001b[39;00m \u001b[38;5;129;01min\u001b[39;00m ioargs\u001b[38;5;241m.\u001b[39mmode:\n\u001b[1;32m    858\u001b[0m         \u001b[38;5;66;03m# Encoding\u001b[39;00m\n\u001b[0;32m--> 859\u001b[0m         handle \u001b[38;5;241m=\u001b[39m \u001b[38;5;28;43mopen\u001b[39;49m\u001b[43m(\u001b[49m\n\u001b[1;32m    860\u001b[0m \u001b[43m            \u001b[49m\u001b[43mhandle\u001b[49m\u001b[43m,\u001b[49m\n\u001b[1;32m    861\u001b[0m \u001b[43m            \u001b[49m\u001b[43mioargs\u001b[49m\u001b[38;5;241;43m.\u001b[39;49m\u001b[43mmode\u001b[49m\u001b[43m,\u001b[49m\n\u001b[1;32m    862\u001b[0m \u001b[43m            \u001b[49m\u001b[43mencoding\u001b[49m\u001b[38;5;241;43m=\u001b[39;49m\u001b[43mioargs\u001b[49m\u001b[38;5;241;43m.\u001b[39;49m\u001b[43mencoding\u001b[49m\u001b[43m,\u001b[49m\n\u001b[1;32m    863\u001b[0m \u001b[43m            \u001b[49m\u001b[43merrors\u001b[49m\u001b[38;5;241;43m=\u001b[39;49m\u001b[43merrors\u001b[49m\u001b[43m,\u001b[49m\n\u001b[1;32m    864\u001b[0m \u001b[43m            \u001b[49m\u001b[43mnewline\u001b[49m\u001b[38;5;241;43m=\u001b[39;49m\u001b[38;5;124;43m\"\u001b[39;49m\u001b[38;5;124;43m\"\u001b[39;49m\u001b[43m,\u001b[49m\n\u001b[1;32m    865\u001b[0m \u001b[43m        \u001b[49m\u001b[43m)\u001b[49m\n\u001b[1;32m    866\u001b[0m     \u001b[38;5;28;01melse\u001b[39;00m:\n\u001b[1;32m    867\u001b[0m         \u001b[38;5;66;03m# Binary mode\u001b[39;00m\n\u001b[1;32m    868\u001b[0m         handle \u001b[38;5;241m=\u001b[39m \u001b[38;5;28mopen\u001b[39m(handle, ioargs\u001b[38;5;241m.\u001b[39mmode)\n",
      "\u001b[0;31mFileNotFoundError\u001b[0m: [Errno 2] No such file or directory: 'Resources/Edmunds.csv'"
     ]
    }
   ],
   "source": [
    "# importing csv for internal combusion engine cars to create dataframe\n",
    "ice_df=pd.read_csv(\"Resources/Edmunds.csv\")\n",
    "#displaying 1st 5 rows of internal combusiton engine cars dataframe\n",
    "display(ice_df.head())\n",
    "# importing csv for hybrid carsto create dataframe\n",
    "hybrid_df=pd.read_csv(\"Resources/Edmunds_hybrid.csv\")\n",
    "#displaying 1st 5 rows of hybrid cars dataframe\n",
    "display(hybrid_df.head())\n",
    "# importing csv for electric cars to create dataframe\n",
    "ev_df=pd.read_csv(\"Resources/Edmunds_ev.csv\")\n",
    "#displaying 1st 5 rows of electric cars dataframe\n",
    "display(ev_df.head())"
   ]
  },
  {
   "cell_type": "code",
   "execution_count": null,
   "id": "99d3ba8e",
   "metadata": {},
   "outputs": [],
   "source": [
    "#addingin column with type for easier sorting\n",
    "ice_df['type']='internal combustion'\n",
    "hybrid_df['type']='hybrid'\n",
    "ev_df['type']='electric'"
   ]
  },
  {
   "cell_type": "code",
   "execution_count": null,
   "id": "3801a58b",
   "metadata": {},
   "outputs": [],
   "source": [
    "#distribution of the range of cost for the cars in the data frames based on engine type\n",
    "display(f'cost to buy internal combustion engine cars: max = ${ice_df[\"cost\"].max()}, min=${ice_df[\"cost\"].min()}, mean=${round(ice_df[\"cost\"].mean(),2)}')\n",
    "display(f'cost to buy hybrid cars: max = ${hybrid_df[\"cost\"].max()}, min=${hybrid_df[\"cost\"].min()}, mean=${round(hybrid_df[\"cost\"].mean(),2)}')\n",
    "display(f'cost to buy all electric cars: max = ${ev_df[\"cost\"].max()}, min=${ev_df[\"cost\"].min()}, mean=${round(ev_df[\"cost\"].mean(),2)}')"
   ]
  },
  {
   "cell_type": "code",
   "execution_count": null,
   "id": "43eede17",
   "metadata": {},
   "outputs": [],
   "source": [
    "# limiting price range of cars for all the engine types for more accurate comparison\n",
    "# the highest least expensive price for the 3 dataframes\n",
    "least=26000\n",
    "# lowest most expensive price for the 3 dataframes\n",
    "most=113000\n",
    "# removing most and least expensive cars from analysis for a more fair comparison\n",
    "reduced_ice_df = ice_df[(ice_df[\"cost\"]>least) & (ice_df[\"cost\"]<most)]\n",
    "reduced_hybrid_df = hybrid_df[(hybrid_df[\"cost\"]>least) & (hybrid_df[\"cost\"]<most)]\n",
    "reduced_ev_df = ev_df[(ev_df[\"cost\"]>least)& (ev_df[\"cost\"]<most)]\n",
    "# concatinating data frames of different engine types into a single dataframe\n",
    "ice_hybrid_ev_df=pd.concat((reduced_ice_df, reduced_hybrid_df, reduced_ev_df))\n",
    "# displaying 1st 5 rows of combined dataframe\n",
    "ice_hybrid_ev_df.tail()"
   ]
  },
  {
   "cell_type": "markdown",
   "id": "35cfb368",
   "metadata": {},
   "source": [
    "the following code is written to calculate how much it cost for the seven breakdown items from the Edmunds database assuming that a typical person drives 15,000 miles."
   ]
  },
  {
   "cell_type": "code",
   "execution_count": null,
   "id": "063770e5",
   "metadata": {},
   "outputs": [],
   "source": [
    "# calculating the cost per mile \n",
    "for i in range(5):\n",
    "    # creating search string\n",
    "    text = \"year \"+ str(i+1)\n",
    "    # calculating cost/ 15,000 miles for each break down cost item, model and engine type\n",
    "    ice_hybrid_ev_df['cost/mile ('+text+ ')']=round(ice_hybrid_ev_df[text]/15000,2)\n",
    "# displaying 1st 5 rows of df to verify addition\n",
    "ice_hybrid_ev_df.head()"
   ]
  },
  {
   "cell_type": "code",
   "execution_count": null,
   "id": "8b39ce7e",
   "metadata": {},
   "outputs": [],
   "source": [
    "# creating dataframe to pull out the cost/mile and dropping the yearly cost\n",
    "yearly_cost=ice_hybrid_ev_df[[\"model\",'engine','cost','type','info','cost/mile (year 1)','cost/mile (year 2)',\n",
    "                             'cost/mile (year 3)','cost/mile (year 4)','cost/mile (year 5)']]\n",
    "# setting index to model, engine and cost\n",
    "yearly_cost.set_index([\"model\",'engine','cost'], inplace=True)"
   ]
  },
  {
   "cell_type": "code",
   "execution_count": null,
   "id": "c42fd695",
   "metadata": {},
   "outputs": [],
   "source": [
    "# calculating the mean based on the engine type and break down cost items\n",
    "yearly_cost_avg=round(yearly_cost.groupby(['info','type']).mean(numeric_only=True),2)\n",
    "# reting the index\n",
    "yearly_cost_avg.reset_index(inplace=True)\n",
    "# renaming columns to year for plots\n",
    "yearly_cost_avg.rename(columns={'cost/mile (year 1)': 'year 1', 'cost/mile (year 2)': 'year 2'\n",
    "                               , 'cost/mile (year 3)': 'year 3', 'cost/mile (year 4)': 'year 4'\n",
    "                               , 'cost/mile (year 5)': 'year 5'},inplace=True)\n",
    "# displaying calculated values of cost/mile for the engine type and break down cost items\n",
    "yearly_cost_avg"
   ]
  },
  {
   "cell_type": "code",
   "execution_count": null,
   "id": "524f6b5e",
   "metadata": {
    "scrolled": false
   },
   "outputs": [],
   "source": [
    "# creating yearly cost for internal combustion engine cars and seting index to break down cost item\n",
    "ice_yearly_cost_avg=yearly_cost_avg[yearly_cost_avg['type']=='internal combustion'].set_index('info')\n",
    "# deleteing type column\n",
    "del ice_yearly_cost_avg['type']\n",
    "#renaming column\n",
    "ice_yearly_cost_avg.rename(columns={\"Taxes_Fees\": \"Taxes and Fees\"})\n",
    "# creating yearly cost for electric cars and seting index to break down cost item\n",
    "ev_yearly_cost_avg=yearly_cost_avg[yearly_cost_avg['type']=='electric'].set_index('info')\n",
    "# deleteing type column\n",
    "del ev_yearly_cost_avg['type']\n",
    "# creating yearly cost for hybrid cars and seting index to break down cost item\n",
    "hybrid_yearly_cost_avg=yearly_cost_avg[yearly_cost_avg['type']=='hybrid'].set_index('info')\n",
    "# deleteing type column\n",
    "del hybrid_yearly_cost_avg['type']\n",
    "\n",
    "# creating subplot\n",
    "fig, axes = plt.subplots(nrows=1, ncols=3, sharey=True, figsize = (10, 6))\n",
    "# transposing yearly cost/mile for internal combustion engine cars to plot verse year cost and renaming\n",
    "# column\n",
    "ice_yearly_cost_avg.T.rename(columns={\"Taxes_Fees\": \"Taxes and Fees\"}).plot.bar(stacked=True,ax=axes[0], title='internal combustion')\n",
    "# transposing yearly cost/mile for hybrid cars to plot verse year cost\n",
    "hybrid_yearly_cost_avg.T.plot.bar(stacked=True,ax=axes[1], title='hybrid', legend=False)\n",
    "# transposing yearly cost/mile for electric cars to plot verse year cost\n",
    "ev_yearly_cost_avg.T.plot.bar(stacked=True,ax=axes[2], title='electric', legend=False)\n",
    "# labeling x- and y-axes\n",
    "fig.text(0.5,0.04, \"Year of Ownership\", ha=\"center\", va=\"center\")\n",
    "fig.text(0.02,0.5, 'Cost/Mile ($)', ha=\"center\", va=\"center\", rotation=90)\n",
    "# triming extra white spacing \n",
    "fig.tight_layout()\n",
    "# fixing margin for labels\n",
    "plt.subplots_adjust(left=0.06)\n",
    "plt.subplots_adjust(bottom=0.15)\n",
    "# updating plot\n",
    "plt.show()\n"
   ]
  },
  {
   "cell_type": "code",
   "execution_count": null,
   "id": "2d0a9bee",
   "metadata": {},
   "outputs": [],
   "source": [
    "# saving figure to png\n",
    "fig.savefig(\"cost_per_mile.png\")"
   ]
  },
  {
   "cell_type": "markdown",
   "id": "3b663f9e",
   "metadata": {},
   "source": [
    "This section calculates the yearly percentage of each break down items to see how the distribution of each item changes over time"
   ]
  },
  {
   "cell_type": "code",
   "execution_count": null,
   "id": "d0845c47",
   "metadata": {},
   "outputs": [],
   "source": [
    "# summing the itemized break down items to find the total cost of each model\n",
    "sum_df=ice_hybrid_ev_df.groupby([\"model\",\"engine\",'cost',\"type\"]).sum()\n",
    "# reseting the index\n",
    "sum_df.reset_index(inplace=True)\n",
    "# fixing the model year which also gets summed by 7\n",
    "sum_df['model year']=sum_df['model year']/7\n",
    "# displaying the 1st 2 rows of the summed dataframe\n",
    "sum_df.head(2)"
   ]
  },
  {
   "cell_type": "markdown",
   "id": "9e73b937",
   "metadata": {},
   "source": [
    "comparison of yearly cost based on car type "
   ]
  },
  {
   "cell_type": "code",
   "execution_count": null,
   "id": "769fdb69",
   "metadata": {},
   "outputs": [],
   "source": [
    "itemized_cost = sum_df[['year 1', 'year 2', 'year 3', 'year 4', 'year 5','type']]#.T\n",
    "itemized_cost.set_index('type',inplace=True)\n",
    "itemized_cost.head()\n",
    "\n",
    "# creating subplot\n",
    "fig, axes = plt.subplots(nrows=1, ncols=3, sharey=True, figsize = (10, 6))\n",
    "# transposing yearly cost for internal combustion engine cars to plot verse year cost\n",
    "itemized_cost_plot = itemized_cost.loc['internal combustion'].T.plot(kind='bar',legend=False,align=\"center\", ax=axes[0], \n",
    "                                                                     title='internal combustion')\n",
    "itemized_cost_plot = itemized_cost.loc['hybrid'].T.plot(kind='bar',legend=False,align=\"center\", ax=axes[1], \n",
    "                                                                     title='hybrid')\n",
    "itemized_cost_plot = itemized_cost.loc['electric'].T.plot(kind='bar',legend=False,align=\"center\", ax=axes[2], \n",
    "                                                                     title='electric')\n",
    "# labeling x- and y-axes\n",
    "fig.text(0.5,0.06, \"Year of Ownership\", ha=\"center\", va=\"center\")\n",
    "fig.text(0.01,0.5, 'Cost of Ownership ($)', ha=\"center\", va=\"center\", rotation=90)\n",
    "# triming extra white spacing \n",
    "fig.tight_layout()\n",
    "# fixing margin for labels\n",
    "plt.subplots_adjust(left=0.09)\n",
    "plt.subplots_adjust(bottom=0.2)\n",
    "# updating plot\n",
    "plt.show()"
   ]
  },
  {
   "cell_type": "code",
   "execution_count": null,
   "id": "552c8468",
   "metadata": {},
   "outputs": [],
   "source": [
    "#saving plot to file\n",
    "fig.savefig(\"YearlyCostOfOwnership.png\")"
   ]
  },
  {
   "cell_type": "code",
   "execution_count": null,
   "id": "c6a73c68",
   "metadata": {},
   "outputs": [],
   "source": [
    "# creating empty list to append  yearly cost\n",
    "costlist=[] # year 1 cost\n",
    "costlist1=[] # year 2 cost\n",
    "costlist2=[] # year 3 cost\n",
    "costlist3=[] # year 4 cost\n",
    "costlist4=[] # year 5 cost\n",
    "# iterating through sum dataframe to create a series of 7 entries for the total yearly cost for each model\n",
    "# to be able to calculate the yearly fraction of itemized break down in order to match the number of rows in\n",
    "# the orignal combined data frame ice_hybrid_ev_df\n",
    "for row, column in sum_df.iterrows():\n",
    "    # creatingloop through the columns\n",
    "    for k in range(5,11):\n",
    "        for j in range(7):\n",
    "            if k == 5:\n",
    "                # appending model, engine, initial cost of car, and year 1 cost to 1st list\n",
    "                costlist.append((column[0],column[1],column[2],column[k]))\n",
    "            elif k == 6:\n",
    "                 # appending initial cost of car, and year 2 cost to 2nd list\n",
    "                costlist1.append((column[2],column[k]))\n",
    "            elif k == 7:\n",
    "                 # appending initial cost of car, and year 3 cost to 3rd list\n",
    "                costlist2.append((column[2],column[k]))\n",
    "            elif k == 8:\n",
    "                 # appending initial cost of car, and year 3 cost to 4th list\n",
    "                costlist3.append((column[2],column[k]))\n",
    "            elif k == 9:\n",
    "                 # appending initial cost of car, and year 4 cost to 5th list\n",
    "                costlist4.append((column[2],column[k]))\n",
    "# converting list into data frames\n",
    "costlist=pd.DataFrame(costlist)\n",
    "costlist1=pd.DataFrame(costlist1)\n",
    "costlist2=pd.DataFrame(costlist2)\n",
    "costlist3=pd.DataFrame(costlist3)\n",
    "costlist4=pd.DataFrame(costlist4)"
   ]
  },
  {
   "cell_type": "code",
   "execution_count": null,
   "id": "ae057f25",
   "metadata": {},
   "outputs": [],
   "source": [
    "# creating empty total cost list dataframe\n",
    "total_cost_df=[]\n",
    "# looping through the 1st three df list from above & merging them to add a new column with the total yearly\n",
    "# expense for each vehicle \n",
    "total_cost_df=reduce(lambda df1,df2: pd.merge(df1,df2, left_index=True, right_index=True),[costlist,costlist1,costlist2])\n",
    "# renaming columns\n",
    "total_cost_df.rename(columns={'0_x':'model','1_x': 'engine', 3: 'total year 1', '1_y': 'total year 2', \n",
    "                              1:'total year 3'},inplace=True)\n",
    "# droping repeating columns for the cost to buy the vehicles\n",
    "total_cost_df.drop(columns=[0, 2,\"0_y\"],inplace=True)\n",
    "# merging last 2 years from costlist from aove to total cost dataframe\n",
    "total_cost_df=reduce(lambda df1,df2: pd.merge(df1,df2, left_index=True, right_index=True),[total_cost_df,costlist3,costlist4])\n",
    "# renaming columns\n",
    "total_cost_df.rename(columns={ '1_x': 'total year 4', '1_y': 'total year 5', '0_y': 'cost'},inplace=True)\n",
    "# droping repeating columns for the cost to buy the vehicles\n",
    "total_cost_df.drop(columns=[\"0_x\"],inplace=True)\n",
    "# displaying 1st 2 lines of total cost dataframe\n",
    "total_cost_df.head(2)"
   ]
  },
  {
   "cell_type": "code",
   "execution_count": null,
   "id": "53aec877",
   "metadata": {},
   "outputs": [],
   "source": [
    "# reseting index to model, engine and the cost to buy the car\n",
    "total_cost_df=total_cost_df.set_index(['model','engine','cost'])\n",
    "# reseting index to model, engine, info and the cost to buy the car \n",
    "ice_hybrid_ev_df=ice_hybrid_ev_df.set_index(['model','engine','cost','info'])\n",
    "# displaying 1st 2 lines of total cost dataframe\n",
    "ice_hybrid_ev_df.head()"
   ]
  },
  {
   "cell_type": "code",
   "execution_count": null,
   "id": "f12fd1f5",
   "metadata": {},
   "outputs": [],
   "source": [
    "# merging  ice_hybrid_ev_df with total_cost_df\n",
    "total_cost_df=ice_hybrid_ev_df.merge(total_cost_df,left_index=True, right_index=True)\n",
    "# droping duplicate rows\n",
    "total_cost_df=total_cost_df.drop_duplicates()\n",
    "# reseting index\n",
    "total_cost_df.reset_index(inplace=True)\n",
    "# displaying 1st 5 lines of total cost dataframe\n",
    "total_cost_df.head()"
   ]
  },
  {
   "cell_type": "code",
   "execution_count": null,
   "id": "095be771",
   "metadata": {},
   "outputs": [],
   "source": [
    "# looping through the 5 yearly columns\n",
    "for i in range(5):\n",
    "    # creating string containing year\n",
    "    text = 'year ' + str(i+1)\n",
    "    # crating yearly fraction for itemized cost for each vehicle\n",
    "    total_cost_df[text+\" (ratio)\"]=round(total_cost_df[text]/total_cost_df[\"total \"+ text]*100,2)\n",
    "# reseting index to the column type\n",
    "total_cost_df=total_cost_df.set_index('type')\n",
    "# printing 1st 2 rows of the dataframe\n",
    "total_cost_df.head(2)"
   ]
  },
  {
   "cell_type": "code",
   "execution_count": null,
   "id": "0a8603a5",
   "metadata": {
    "scrolled": false
   },
   "outputs": [],
   "source": [
    "# creating total cost for internal combustion engine vechiles dataframe\n",
    "total_ice_cost_plot=total_cost_df.loc[\"internal combustion\"]\n",
    "# reducing the dataframe to contain only the itemized cost and the calculated fraction for the yearly cost\n",
    "total_ice_cost_plot=total_ice_cost_plot[['info',\"year 1 (ratio)\",\"year 2 (ratio)\",\"year 3 (ratio)\",\"year 4 (ratio)\",\"year 5 (ratio)\"]]\n",
    "# reseting index to row number\n",
    "total_ice_cost_plot.reset_index(inplace=True)\n",
    "# deleting the column type\n",
    "del total_ice_cost_plot['type']\n",
    "# renaming columns\n",
    "total_ice_cost_plot.rename(columns={\"year 1 (ratio)\" : 'year 1',\"year 2 (ratio)\" : 'year 2',\n",
    "                                       \"year 3 (ratio)\" : 'year 3',\"year 4 (ratio)\": 'year 4',\n",
    "                                       \"year 5 (ratio)\": 'year 5'},inplace=True)\n",
    "\n",
    "# creating total cost for hybrid vechiles dataframe\n",
    "total_hybrid_cost_plot=total_cost_df.loc[\"hybrid\"]\n",
    "# reducing the dataframe to contain only the itemized cost and the calculated fraction for the yearly cost\n",
    "total_hybrid_cost_plot=total_hybrid_cost_plot[['info',\"year 1 (ratio)\",\"year 2 (ratio)\",\"year 3 (ratio)\",\"year 4 (ratio)\",\"year 5 (ratio)\"]]\n",
    "# reseting index to row number\n",
    "total_hybrid_cost_plot.reset_index(inplace=True)\n",
    "# deleting the column type\n",
    "del total_hybrid_cost_plot['type']\n",
    "# renaming columns\n",
    "total_hybrid_cost_plot.rename(columns={\"year 1 (ratio)\" : 'year 1',\"year 2 (ratio)\" : 'year 2',\n",
    "                                       \"year 3 (ratio)\" : 'year 3',\"year 4 (ratio)\": 'year 4',\n",
    "                                       \"year 5 (ratio)\": 'year 5'},inplace=True)\n",
    "                                       \n",
    "# creating total cost for electric vechiles dataframe\n",
    "total_ev_cost_plot=total_cost_df.loc[\"electric\"]\n",
    "# reducing the dataframe to contain only the itemized cost and the calculated fraction for the yearly cost\n",
    "total_ev_cost_plot=total_ev_cost_plot[['info',\"year 1 (ratio)\",\"year 2 (ratio)\",\"year 3 (ratio)\",\"year 4 (ratio)\",\"year 5 (ratio)\"]]\n",
    "# reseting index to row number\n",
    "total_ev_cost_plot.reset_index(inplace=True)\n",
    "# deleting the column type\n",
    "del total_ev_cost_plot['type']\n",
    "# renaming columns\n",
    "total_ev_cost_plot.rename(columns={\"year 1 (ratio)\" : 'year 1',\"year 2 (ratio)\" : 'year 2',\n",
    "                                       \"year 3 (ratio)\" : 'year 3',\"year 4 (ratio)\": 'year 4',\n",
    "                                       \"year 5 (ratio)\": 'year 5'},inplace=True)\n",
    "\n",
    "# printing 1st 2 rows of the dataframe\n",
    "total_ev_cost_plot.head(2)"
   ]
  },
  {
   "cell_type": "code",
   "execution_count": null,
   "id": "9ff5e489",
   "metadata": {},
   "outputs": [],
   "source": [
    "# determination of the mean of each engine type for the yearly itemized cost \n",
    "# grouping of the internal combustion engine cars by itemized cost and transposing df\n",
    "total_ice_cost_plot=total_ice_cost_plot.groupby('info').mean().T\n",
    "# grouping of the hybrid cars by itemized cost and transposing df\n",
    "total_hybrid_cost_plot=total_hybrid_cost_plot.groupby('info').mean().T\n",
    "# grouping of the electric cars by itemized cost and transposing df\n",
    "total_ev_cost_plot=total_ev_cost_plot.groupby('info').mean().T\n",
    "# printing dataframe of the internal combustion engine cars to screen\n",
    "total_ice_cost_plot"
   ]
  },
  {
   "cell_type": "code",
   "execution_count": null,
   "id": "48154fa5",
   "metadata": {},
   "outputs": [],
   "source": [
    "# creating subplots of the percentage of the yearly itemized cost\n",
    "fig, axes = plt.subplots(nrows=1, ncols=3, sharey=True, figsize = (10, 6))\n",
    "# filling subplots with stacked bar graphs base on engine type\n",
    "# internal combustion engine cars\n",
    "total_ice_cost_plot.plot.bar(stacked=True,ax=axes[0], title='internal combustion',legend=False)\n",
    "# renaming column\n",
    "total_ice_cost_plot.rename(columns={\"Taxes_Fees\": \"Taxes and Fees\"})\n",
    "# hybrid cars\n",
    "total_hybrid_cost_plot.plot.bar(stacked=True,ax=axes[1], title='hybrid', legend=False)\n",
    "# electric cars\n",
    "total_ev_cost_plot.plot.bar(stacked=True,ax=axes[2], title='electric').legend(loc='center left', bbox_to_anchor=(1.0, 0.5))\n",
    "# labeling x- and y-axes\n",
    "fig.text(0.5,0.03, \"Year of Ownership\", ha=\"center\", va=\"center\")\n",
    "fig.text(0.05,0.5, 'Fraction of Yearly Cost (%)', ha=\"center\", va=\"center\", rotation=90)\n",
    "# fixing margin for labels\n",
    "plt.subplots_adjust(left=0.09)\n",
    "plt.subplots_adjust(bottom=0.16)\n",
    "plt.subplots_adjust(right=0.85)\n",
    "# triming extra white spacing \n",
    "fig.tight_layout\n",
    "# updating plot\n",
    "plt.show()"
   ]
  },
  {
   "cell_type": "code",
   "execution_count": null,
   "id": "59c7ffb5",
   "metadata": {},
   "outputs": [],
   "source": [
    "#saving plot to file\n",
    "fig.savefig(\"YearlyPercentageOfCost.png\")"
   ]
  },
  {
   "cell_type": "markdown",
   "id": "178a1f6f",
   "metadata": {},
   "source": [
    "Analyzing data to determine correlation between the yearly depreciation and the intial cost to by a vehicle based on the engine type"
   ]
  },
  {
   "cell_type": "code",
   "execution_count": null,
   "id": "0bcf66eb",
   "metadata": {},
   "outputs": [],
   "source": [
    "# reset index to row number\n",
    "ice_hybrid_ev_df.reset_index(inplace=True)\n",
    "# seting index to info column\n",
    "ice_hybrid_ev_df=ice_hybrid_ev_df.set_index('info')"
   ]
  },
  {
   "cell_type": "code",
   "execution_count": null,
   "id": "b06583f6",
   "metadata": {},
   "outputs": [],
   "source": [
    "# creating new df with only the deperation values\n",
    "Depreciation_cost_df= ice_hybrid_ev_df.loc[['Depreciation']]\n",
    "# triming columns to keep only yearly cost, type of car and intial cost of the vehicle\n",
    "Depreciation_cost_df=Depreciation_cost_df[['cost','year 1','year 2','year 3','year 4','year 5','type']]\n",
    "# reseting index\n",
    "Depreciation_cost_df.set_index('type',inplace=True)"
   ]
  },
  {
   "cell_type": "code",
   "execution_count": null,
   "id": "c0c2614c",
   "metadata": {
    "scrolled": false
   },
   "outputs": [],
   "source": [
    "#create dataframe based on engine for depreciation vs cost\n",
    "ice_Depreciation_cost_df=Depreciation_cost_df.loc['internal combustion']\n",
    "hybrid_Depreciation_cost_df=Depreciation_cost_df.loc['hybrid']\n",
    "ev_Depreciation_cost_df=Depreciation_cost_df.loc['electric']\n",
    "\n",
    "#create figure for subplots\n",
    "fig, axes= plt.subplots(nrows=3, ncols=5, sharey=True, figsize = (15, 6))\n",
    "\n",
    "#plotting of internal combustion engines in top row, column = year\n",
    "ice_Depreciation_cost_df.plot.scatter(x='cost', y='year 1',ax=axes[0,0],c='red',xlabel='',ylabel='')\n",
    "ice_Depreciation_cost_df.plot.scatter(x='cost', y='year 2',ax=axes[0,1],c='red',xlabel='')\n",
    "ice_Depreciation_cost_df.plot.scatter(x='cost', y='year 3',ax=axes[0,2],c='red',xlabel='',title='internal combustion')\n",
    "ice_Depreciation_cost_df.plot.scatter(x='cost', y='year 4',ax=axes[0,3],c='red',xlabel='')\n",
    "ice_Depreciation_cost_df.plot.scatter(x='cost', y='year 5',ax=axes[0,4],c='red',xlabel='')\n",
    "\n",
    "#pulling out values to fit with data a linear function\n",
    "x_values=ice_Depreciation_cost_df['cost']\n",
    "# creating loop for the years 1-5\n",
    "for i in range(5):\n",
    "    # create string for year: adding 1 since year starts at 1 not zero but subplot # starts at 0\n",
    "    text = 'year '+str(i+1)\n",
    "    # pulling out depreciation based on year from dataframe\n",
    "    y_values=ice_Depreciation_cost_df[text]\n",
    "    #calculating linear regression for year\n",
    "    (slope, intercept, rvalue, pvalue, stderr) = linregress(x_values, y_values)\n",
    "    regress_values = x_values * slope + intercept\n",
    "    # formating text for fit to plot in subfigure\n",
    "    line_eq = str(round(slope,3)) + \"x + \" + str(round(intercept,2))\n",
    "    # ploting linear regression in same subplot as data being fitted\n",
    "    axes[0,i].plot(x_values,regress_values,'black')\n",
    "    # writing function to graph\n",
    "    axes[0,i].annotate(line_eq,xy=(25000,30000),fontsize=15,color=\"black\")\n",
    "\n",
    "#plotting of hybrid engines in 2nd row, column = year\n",
    "hybrid_Depreciation_cost_df.plot.scatter(x='cost', y='year 1',ax=axes[1,0],c='orange',xlabel='',ylabel='')\n",
    "hybrid_Depreciation_cost_df.plot.scatter(x='cost', y='year 2',ax=axes[1,1],c='orange',xlabel='')\n",
    "hybrid_Depreciation_cost_df.plot.scatter(x='cost', y='year 3',ax=axes[1,2],c='orange',xlabel='',title='hybrid')\n",
    "hybrid_Depreciation_cost_df.plot.scatter(x='cost', y='year 4',ax=axes[1,3],c='orange',xlabel='')\n",
    "hybrid_Depreciation_cost_df.plot.scatter(x='cost', y='year 5',ax=axes[1,4],c='orange',xlabel='')\n",
    "\n",
    "#pulling out values to fit with data a linear function\n",
    "x_values = hybrid_Depreciation_cost_df['cost']\n",
    "# creating loop for the years 1-5\n",
    "for i in range(5):\n",
    "    # create string for year: adding 1 since year starts at 1 not zero but subplot # starts at 0\n",
    "    text = 'year '+str(i+1)\n",
    "    # pulling out depreciation based on year from dataframe\n",
    "    y_values=hybrid_Depreciation_cost_df[text]\n",
    "    #calculating linear regression for year\n",
    "    (slope, intercept, rvalue, pvalue, stderr) = linregress(x_values, y_values)\n",
    "    regress_values = x_values * slope + intercept\n",
    "    # formating text for fit to plot in subfigure\n",
    "    line_eq = str(round(slope,3)) + \"x + \" + str(round(intercept,2))\n",
    "    # ploting linear regression in same subplot as data being fitted\n",
    "    axes[1,i].plot(x_values,regress_values,'black')\n",
    "    # writing function to graph\n",
    "    axes[1,i].annotate(line_eq,xy=(40000,30000),fontsize=15,color=\"black\")\n",
    "\n",
    "#plot of electric engines in 3rd row, column = year\n",
    "ev_Depreciation_cost_df.plot.scatter(x='cost', y='year 1',ax=axes[2,0],xlabel='',ylabel='')\n",
    "ev_Depreciation_cost_df.plot.scatter(x='cost', y='year 2',ax=axes[2,1],xlabel='')\n",
    "ev_Depreciation_cost_df.plot.scatter(x='cost', y='year 3',ax=axes[2,2],xlabel='',title='electric')\n",
    "ev_Depreciation_cost_df.plot.scatter(x='cost', y='year 4',ax=axes[2,3],xlabel='')\n",
    "ev_Depreciation_cost_df.plot.scatter(x='cost', y='year 5',ax=axes[2,4],xlabel='')\n",
    "\n",
    "#pulling out values to fit with data a linear function\n",
    "x_values = ev_Depreciation_cost_df['cost']\n",
    "# creating loop for the years 1-5\n",
    "for i in range(5):\n",
    "    # create string for year: adding 1 since year starts at 1 not zero but subplot # starts at 0\n",
    "    text = 'year '+str(i+1)\n",
    "    # pulling out depreciation based on year from dataframe\n",
    "    y_values=ev_Depreciation_cost_df[text]\n",
    "    #calculating linear regression for year\n",
    "    (slope, intercept, rvalue, pvalue, stderr) = linregress(x_values, y_values)\n",
    "    regress_values = x_values * slope + intercept\n",
    "    # formating text for fit to plot in subfigure\n",
    "    line_eq = str(round(slope,3)) + \"x + \" + str(round(intercept,2))\n",
    "    # ploting linear regression in same subplot as data being fitted\n",
    "    axes[2,i].plot(x_values,regress_values,'black')\n",
    "    # writing function to graph\n",
    "    axes[2,i].annotate(line_eq,xy=(30000,34000),fontsize=15,color=\"black\")\n",
    "# labeling x- and y-axes\n",
    "fig.text(0.5,0.04, \"Cost to Purchase Vehicle($)\", ha=\"center\", va=\"center\")\n",
    "fig.text(0.02,0.5, 'Depreciation ($)', ha=\"center\", va=\"center\", rotation=90)\n",
    "# triming extra white spacing \n",
    "fig.tight_layout()\n",
    "# fixing margin for labels\n",
    "plt.subplots_adjust(left=0.07)\n",
    "plt.subplots_adjust(bottom=0.12)\n",
    "# updating plot\n",
    "plt.show()"
   ]
  },
  {
   "cell_type": "code",
   "execution_count": null,
   "id": "5858d8c1",
   "metadata": {},
   "outputs": [],
   "source": [
    "#saving plot to file\n",
    "fig.savefig(\"depreciation.png\")"
   ]
  },
  {
   "cell_type": "code",
   "execution_count": null,
   "id": "b0fdb917",
   "metadata": {},
   "outputs": [],
   "source": [
    "# calculating the correlation matrices for each of the engine types for the yearly depreciation vs intial\n",
    "# cost to purchase the vehicle\n",
    "display('internal combustion engine cars correlation matrix')\n",
    "display(ice_Depreciation_cost_df[[\"cost\", \"year 1\",\"year 2\", \"year 3\",\"year 4\",'year 5']].corr())\n",
    "display('hybrid cars correlation matrix')\n",
    "display(hybrid_Depreciation_cost_df[[\"cost\", \"year 1\",\"year 2\", \"year 3\",\"year 4\",'year 5']].corr())\n",
    "display('electric cars correlation matrix')\n",
    "display(ev_Depreciation_cost_df[[\"cost\", \"year 1\",\"year 2\", \"year 3\",\"year 4\",'year 5']].corr())"
   ]
  },
  {
   "cell_type": "code",
   "execution_count": null,
   "id": "da0941ed",
   "metadata": {},
   "outputs": [],
   "source": []
  }
 ],
 "metadata": {
  "kernelspec": {
   "display_name": "Python 3 (ipykernel)",
   "language": "python",
   "name": "python3"
  },
  "language_info": {
   "codemirror_mode": {
    "name": "ipython",
    "version": 3
   },
   "file_extension": ".py",
   "mimetype": "text/x-python",
   "name": "python",
   "nbconvert_exporter": "python",
   "pygments_lexer": "ipython3",
   "version": "3.8.5"
  }
 },
 "nbformat": 4,
 "nbformat_minor": 5
}
